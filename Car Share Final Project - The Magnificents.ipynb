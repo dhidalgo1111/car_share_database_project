{
 "cells": [
  {
   "cell_type": "markdown",
   "id": "fba3c226",
   "metadata": {},
   "source": [
    "# The Magnificents"
   ]
  },
  {
   "cell_type": "markdown",
   "id": "cc7516fa",
   "metadata": {},
   "source": [
    " Garrick Byrne, Dalibor Hajdek, Lacey Harris, Diana Hidalgo"
   ]
  },
  {
   "cell_type": "markdown",
   "id": "c46a5406",
   "metadata": {},
   "source": [
    "# Connecting to the database server"
   ]
  },
  {
   "cell_type": "code",
   "execution_count": 1,
   "id": "7814ee90",
   "metadata": {},
   "outputs": [],
   "source": [
    "import json\n",
    "import datetime\n",
    "import hashlib\n",
    "import random\n",
    "import pandas as pd\n",
    "\n",
    "from datetime import date\n",
    "\n",
    "code = hashlib.md5()\n",
    "\n",
    "with open('cred.json') as f:\n",
    "    creds = json.load(f)\n",
    "\n",
    "connection_string = \"mysql://{user}:{password}@{host}\".format(**creds)\n",
    "\n",
    "import pymysql \n",
    "    \n",
    "# loading the faker module\n",
    "from faker import Faker\n",
    "from faker_vehicle import VehicleProvider\n",
    "\n",
    "from random import seed\n",
    "from random import random\n",
    "from random import randint\n",
    "\n",
    "faker = Faker('en_US')\n",
    "faker.add_provider(VehicleProvider)\n",
    "\n",
    "# preparing the cursor connector\n",
    "# establish a database connection\n",
    "conn = pymysql.connect(host=creds['host'], user=creds['user'], passwd=creds['password'], db = 'magnificents_final_project', autocommit=True)\n",
    "cursor = conn.cursor(cursor=pymysql.cursors.Cursor)"
   ]
  },
  {
   "cell_type": "code",
   "execution_count": 2,
   "id": "864569f1",
   "metadata": {},
   "outputs": [],
   "source": [
    "%reload_ext sql"
   ]
  },
  {
   "cell_type": "markdown",
   "id": "7297d969",
   "metadata": {},
   "source": [
    "# Creating the Tables"
   ]
  },
  {
   "cell_type": "markdown",
   "id": "8171f9f8",
   "metadata": {},
   "source": [
    "Note, due to the use of foreign keys, the tables must be created in a certain order."
   ]
  },
  {
   "cell_type": "markdown",
   "id": "447814bf",
   "metadata": {},
   "source": [
    "Creating the User Table"
   ]
  },
  {
   "cell_type": "code",
   "execution_count": null,
   "id": "ec3af8e2",
   "metadata": {},
   "outputs": [],
   "source": [
    "cursor.execute(\"\"\"\n",
    "DROP TABLE IF EXISTS `user`;\n",
    "\"\"\")\n",
    "\n",
    "cursor.execute(\"\"\"\n",
    "CREATE TABLE `user` (\n",
    "  `driver_license` varchar(11) NOT NULL,\n",
    "  `name` varchar(45) NOT NULL,\n",
    "  `sex` char(1) NOT NULL CHECK (`sex` IN (\"M\",\"F\")),\n",
    "  PRIMARY KEY (`driver_license`)\n",
    ") ENGINE=InnoDB DEFAULT CHARSET=utf8\n",
    "\"\"\")\n"
   ]
  },
  {
   "cell_type": "markdown",
   "id": "44687a05",
   "metadata": {},
   "source": [
    "Creating the Car Table"
   ]
  },
  {
   "cell_type": "code",
   "execution_count": null,
   "id": "7ab9ae10",
   "metadata": {},
   "outputs": [],
   "source": [
    "# Note! Fields that are intended to refer to foreign keys must be the same data type as the field in the other\n",
    "# table! \n",
    "cursor.execute(\"\"\"\n",
    "DROP TABLE IF EXISTS `user`;\n",
    "\"\"\")\n",
    "\n",
    "cursor.execute(\"\"\"\n",
    "CREATE TABLE `car` (\n",
    "  `vin` varchar(30) NOT NULL,\n",
    "  `owner_dl` varchar(11) NOT NULL,\n",
    "  `make` varchar(20) NOT NULL,\n",
    "  `model` varchar(75) NOT NULL,\n",
    "  `year` year(4) NOT NULL,\n",
    "  `body_type` varchar(75) NOT NULL,\n",
    "  `fuel_type` varchar(45) NOT NULL,\n",
    "  `seats` tinyint(3) unsigned DEFAULT NULL,\n",
    "  `trunk_size_cuft` decimal(5,2) unsigned DEFAULT NULL,\n",
    "  `fuel_economy_mpg` decimal(5,2) unsigned DEFAULT NULL,\n",
    "  PRIMARY KEY (`vin`),\n",
    "  KEY `car_dl_fk` (`owner_dl`),\n",
    "  CONSTRAINT `car_dl_fk` FOREIGN KEY (`owner_dl`) REFERENCES `user` (`driver_license`)\n",
    ") ENGINE=InnoDB DEFAULT CHARSET=utf8\n",
    "\"\"\")"
   ]
  },
  {
   "cell_type": "markdown",
   "id": "7a1cdfa9",
   "metadata": {},
   "source": [
    "Creating the Driver Table "
   ]
  },
  {
   "cell_type": "code",
   "execution_count": null,
   "id": "b928941c",
   "metadata": {},
   "outputs": [],
   "source": [
    "cursor.execute(\"\"\"\n",
    "DROP TABLE IF EXISTS `driver`;\n",
    "\"\"\")\n",
    "\n",
    "cursor.execute(\"\"\"\n",
    "CREATE TABLE `driver` (\n",
    "  `driver_license` varchar(11) NOT NULL,\n",
    "  `sex` char(1) NOT NULL CHECK (`sex` IN (\"M\",\"F\")),\n",
    "  `date_of_birth` date NOT NULL,\n",
    "  PRIMARY KEY (`driver_license`),\n",
    "  CONSTRAINT `driver_dl_fk` FOREIGN KEY (`driver_license`) REFERENCES `user`(`driver_license`)\n",
    ") ENGINE=InnoDB DEFAULT CHARSET=utf8\n",
    "\"\"\")"
   ]
  },
  {
   "cell_type": "markdown",
   "id": "d6293049",
   "metadata": {},
   "source": [
    "Creating the Availability Table"
   ]
  },
  {
   "cell_type": "code",
   "execution_count": null,
   "id": "22745894",
   "metadata": {},
   "outputs": [],
   "source": [
    "cursor.execute(\"\"\"\n",
    "DROP TABLE IF EXISTS `availability`;\n",
    "\"\"\")\n",
    "\n",
    "cursor.execute(\"\"\"\n",
    "CREATE TABLE `availability` (\n",
    "  `date` date NOT NULL,\n",
    "  `vin` varchar(30) NOT NULL,\n",
    "  `daily_rate` decimal(5,2) DEFAULT NULL,\n",
    "  `excess_mileage_rate` decimal(5,2) DEFAULT NULL,\n",
    "  `free_miles` int(5) unsigned NOT NULL,\n",
    "  PRIMARY KEY (`date`,`vin`),\n",
    "  KEY `availability_FK` (`vin`),\n",
    "  CONSTRAINT `availability_FK` FOREIGN KEY (`vin`) REFERENCES `car` (`vin`)\n",
    ") ENGINE=InnoDB DEFAULT CHARSET=utf8\n",
    "\"\"\")"
   ]
  },
  {
   "cell_type": "markdown",
   "id": "6d69a774",
   "metadata": {},
   "source": [
    "Creating the Reservation Table"
   ]
  },
  {
   "cell_type": "code",
   "execution_count": null,
   "id": "f4404b9c",
   "metadata": {},
   "outputs": [],
   "source": [
    "cursor.execute(\"\"\"\n",
    "DROP TABLE IF EXISTS `reservation`;\n",
    "\"\"\")\n",
    "\n",
    "cursor.execute(\"\"\"\n",
    "CREATE TABLE `reservation` (\n",
    "  `date` date NOT NULL,\n",
    "  `vin` varchar(30) NOT NULL COMMENT 'vin is foreign key\\n',\n",
    "  `driver_license` varchar(11) DEFAULT NULL COMMENT 'foreign key to driver database\\n',\n",
    "  PRIMARY KEY (`date`,`vin`),\n",
    "  KEY `reserv_VIN_fk` (`vin`),\n",
    "  KEY `reserv_driver_fk` (`driver_license`),\n",
    "  CONSTRAINT `reserv_VIN_fk` FOREIGN KEY (`vin`) REFERENCES `car` (`vin`),\n",
    "  CONSTRAINT `reserv_driver_fk` FOREIGN KEY (`driver_license`) REFERENCES `driver` (`driver_license`)\n",
    ") ENGINE=InnoDB DEFAULT CHARSET=utf8\n",
    "\"\"\")\n",
    "\n"
   ]
  },
  {
   "cell_type": "markdown",
   "id": "63edc022",
   "metadata": {},
   "source": [
    "Creating the Trip Table"
   ]
  },
  {
   "cell_type": "code",
   "execution_count": null,
   "id": "ff7ce994",
   "metadata": {},
   "outputs": [],
   "source": [
    "## Trip is completing the whole reservation. \n",
    "## A reservation corresponds to a trip. 1:1 relationship between reservation and trip. \n",
    "\n",
    "cursor.execute(\"\"\"\n",
    "DROP TABLE IF EXISTS `trip`;\n",
    "\"\"\")\n",
    "\n",
    "cursor.execute(\"\"\"\n",
    "CREATE TABLE `trip` (\n",
    "  `date` date NOT NULL,\n",
    "  `driver_license` varchar(45) NOT NULL,\n",
    "  `vin` varchar(30) NOT NULL,\n",
    "  `miles` decimal(6,2) DEFAULT NULL,\n",
    "  PRIMARY KEY (`date`,`vin`),\n",
    "  KEY `trip_VIN_fk` (`vin`),\n",
    "  KEY `trip_driver_fk` (`driver_license`),\n",
    "  CONSTRAINT `trip_VIN_fk` FOREIGN KEY (`vin`) REFERENCES `reservation` (`vin`),\n",
    "  CONSTRAINT `trip_date_fk` FOREIGN KEY (`date`) REFERENCES `reservation` (`date`),\n",
    "  CONSTRAINT `trip_driver_fk` FOREIGN KEY (`driver_license`) REFERENCES `reservation` (`driver_license`)\n",
    ") ENGINE=InnoDB DEFAULT CHARSET=utf8\n",
    "\"\"\")"
   ]
  },
  {
   "cell_type": "markdown",
   "id": "4b88212f",
   "metadata": {},
   "source": [
    "# Populating the Tables"
   ]
  },
  {
   "cell_type": "markdown",
   "id": "46c5b399",
   "metadata": {},
   "source": [
    "1. User the faker module to populate at least 500 users."
   ]
  },
  {
   "cell_type": "code",
   "execution_count": null,
   "id": "db6c600a",
   "metadata": {},
   "outputs": [],
   "source": [
    "\n",
    "# inserting 250 women\n",
    "for i in range(250):\n",
    "    cursor.execute(\"\"\"\n",
    "    INSERT INTO user (driver_license, name, sex) VALUES (%s, %s, %s)\"\"\",\n",
    "                   (round(random()*1000000), faker.name_female(), \"F\")\n",
    "                  )\n",
    "    \n",
    "\n",
    "# inserting 250 men\n",
    "for i in range(250):\n",
    "    cursor.execute(\"\"\"\n",
    "    INSERT INTO user (driver_license, name, sex) VALUES (%s, %s, %s)\"\"\",\n",
    "                   (round(random()*1000000), faker.name_male(), \"M\")\n",
    "                  )"
   ]
  },
  {
   "cell_type": "markdown",
   "id": "2277fd26",
   "metadata": {},
   "source": [
    "2. Add 300 cars owned by some of the user. A user may own multiple cars. \n",
    "   You can use the faker_vehicle plugin of the faker module."
   ]
  },
  {
   "cell_type": "code",
   "execution_count": null,
   "id": "2d6bef61",
   "metadata": {},
   "outputs": [],
   "source": [
    "#Inserting 30 cars with diesel fuel type into car table.\n",
    "\n",
    "\n",
    "cursor.execute(\"\"\"\n",
    "SELECT driver_license FROM user\n",
    "\"\"\")\n",
    "user_info = cursor.fetchall()\n",
    "user_info = random.sample(user_info,30)\n",
    "car_df = pd.DataFrame(user_info, columns=['driver_license'])\n",
    "\n",
    "\n",
    "for i in tqdm.tqdm(range(car_df.shape[0])):\n",
    "    \n",
    "    car_info = faker.vehicle_object()\n",
    "    make = car_info['Make']\n",
    "    model = car_info['Model']\n",
    "    year = car_info['Year']\n",
    "    body_type = car_info['Category']\n",
    "\n",
    "\n",
    "cursor.execute(\"\"\"INSERT INTO magnificents_final_project.car (vin, owner_dl, make, model, year, body_type, fuel_type, seats, trunk_size_cuft, fuel_economy_mpg)\n",
    "VALUES(%s,%s,%s,%s,%s,%s,'diesel',%s,%s,%s)\n",
    "\"\"\", ( ( ''.join(random.choice(string.ascii_uppercase + string.digits) for i in range(16))), \n",
    "      car_df['driver_license'].iat[i],\n",
    "      make, model, year, body_type,\n",
    "      random.choice([2, 4]),\n",
    "      round(random.uniform(5.0, 30.0),2),\n",
    "      round(random.uniform(10.0, 50.0),2)))\n",
    "\n"
   ]
  },
  {
   "cell_type": "code",
   "execution_count": null,
   "id": "ad063ffb",
   "metadata": {},
   "outputs": [],
   "source": [
    "#Inserting 270 cars with gasoline fuel type into car table.\n",
    "\n",
    "\n",
    "cursor.execute(\"\"\"\n",
    "SELECT driver_license FROM user\n",
    "\"\"\")\n",
    "user_info = cursor.fetchall()\n",
    "user_info = random.sample(user_info,270)\n",
    "car_df = pd.DataFrame(user_info, columns=['driver_license'])\n",
    "\n",
    "\n",
    "for i in tqdm.tqdm(range(car_df.shape[0])):\n",
    "    \n",
    "    car_info = faker.vehicle_object()\n",
    "    make = car_info['Make']\n",
    "    model = car_info['Model']\n",
    "    year = car_info['Year']\n",
    "    body_type = car_info['Category']\n",
    "\n",
    "cursor.execute(\"\"\"INSERT INTO magnificents_final_project.car (vin, owner_dl, make, model, year, body_type, fuel_type, seats, trunk_size_cuft, fuel_economy_mpg)\n",
    "VALUES(%s,%s,%s,%s,%s,%s,'gasoline',%s,%s,%s)\n",
    "\"\"\", ( ( ''.join(random.choice(string.ascii_uppercase + string.digits) for i in range(16))), \n",
    "      car_df['driver_license'].iat[i],\n",
    "      make, model, year, body_type,\n",
    "      random.choice([2, 4]),\n",
    "      round(random.uniform(5.0, 30.0),2),\n",
    "      round(random.uniform(10.0, 50.0),2)))\n"
   ]
  },
  {
   "cell_type": "markdown",
   "id": "3c8a71f1",
   "metadata": {},
   "source": [
    "3. Designate some users as drivers and provide their drivers license information."
   ]
  },
  {
   "cell_type": "code",
   "execution_count": null,
   "id": "d8e7ea0c",
   "metadata": {},
   "outputs": [],
   "source": [
    "cursor.execute(\"\"\"\n",
    "SELECT driver_license, sex FROM user;\n",
    "\"\"\")\n",
    "\n",
    "user_info = cursor.fetchall()\n",
    "\n",
    "user_info = random.sample(user_info, 150)\n",
    "\n",
    "driver_df = pd.DataFrame(user_info, columns=['dl_number', 'sex'])\n",
    "\n",
    "for i in range(driver_df.shape[0]):\n",
    "    cursor.execute(\"\"\"\n",
    "       INSERT INTO driver (driver_license, sex, date_of_birth) VALUES (%s, %s, %s)\"\"\",\n",
    "               (driver_df['dl_number'].iat[i], driver_df['sex'].iat[i], faker.date_of_birth())\n",
    "               )"
   ]
  },
  {
   "cell_type": "markdown",
   "id": "da84083d",
   "metadata": {},
   "source": [
    "4. Make some cars available for rental for some dates between Dec 1, 2021 and Jan 31, 2022. \n",
    "   Have at least 6000 car days available."
   ]
  },
  {
   "cell_type": "code",
   "execution_count": null,
   "id": "1b06f02d",
   "metadata": {},
   "outputs": [],
   "source": [
    "#Insterting into Availability table\n",
    "cursor.execute(\"\"\"\n",
    "SELECT vin FROM car\n",
    "\"\"\")\n",
    "car_info = cursor.fetchall()\n",
    "availability_df = pd.DataFrame(car_info, columns=['vin'])\n",
    "\n",
    "start_date = datetime.date(2021, 12, 1)\n",
    "end_date = datetime.date(2022, 1, 31)\n",
    "increment = datetime.timedelta(days=1)\n",
    "\n",
    "\n",
    "while start_date <= end_date:\n",
    "    for i in tqdm.tqdm(range(0,100)):\n",
    "        cursor.execute(\"\"\"INSERT INTO magnificents_final_project.availability \n",
    "        (date, vin, daily_rate, excess_mileage_rate,free_miles) VALUES (%s, %s, %s, %s,%s);\"\"\", \n",
    "                       (start_date, \n",
    "                        availability_df['vin'].iat[i],       \n",
    "                        round(random.uniform(20.0, 80.0),2),\n",
    "                        round(random.uniform(.35, .80),2),\n",
    "                        round(random.uniform(50, 200))))\n",
    "    start_date =start_date+increment\n"
   ]
  },
  {
   "cell_type": "code",
   "execution_count": 5,
   "id": "8b0dacae",
   "metadata": {},
   "outputs": [],
   "source": [
    "#Inserting into reservation table"
   ]
  },
  {
   "cell_type": "code",
   "execution_count": null,
   "id": "5ae0db61",
   "metadata": {},
   "outputs": [],
   "source": [
    "start_date = datetime.date(2021, 12, 1)\n",
    "end_date = datetime.date(2022, 1, 31)\n",
    "increment = datetime.timedelta(days = 4)\n",
    "\n",
    "while start_date <= end_date:\n",
    "    \n",
    "    for i in tqdm.tqdm(range(0,2)):\n",
    "    \n",
    "       # getting cars that are available only on the day in question\n",
    "        cursor.execute(\"\"\"SELECT vin FROM availability WHERE date=%s\"\"\", start_date)\n",
    "        car_info = cursor.fetchall()\n",
    "        reservation_df_vin = pd.DataFrame(car_info, columns=['vin'])\n",
    "        vin = reservation_df_vin['vin'].iat\n",
    "    \n",
    "        vin = vin[i]\n",
    "\n",
    "    #getting all drivers licneses\n",
    "        cursor.execute(\"\"\"SELECT driver_license FROM driver\"\"\")\n",
    "        driver_info = cursor.fetchall()\n",
    "        reservation_df_dl = pd.DataFrame(driver_info, columns=['driver_license'])\n",
    "        driver_license = reservation_df_dl['driver_license'].iat\n",
    "    \n",
    "        driver_license = driver_license[i]\n",
    "    \n",
    "\n",
    "        \n",
    "\n",
    "    #for i in tqdm.tqdm(range(0,25)):\n",
    "        reserve_car(start_date,end_date, i , driver_license)\n",
    "        \n",
    "        start_date = start_date+increment\n"
   ]
  },
  {
   "cell_type": "markdown",
   "id": "e843f2c9",
   "metadata": {},
   "source": [
    "# Functions"
   ]
  },
  {
   "cell_type": "markdown",
   "id": "aead98a7",
   "metadata": {},
   "source": [
    "1. Write the function get_available_cars that returns the list of cars available for rental and not already reserved."
   ]
  },
  {
   "cell_type": "code",
   "execution_count": 7,
   "id": "7e1033b8",
   "metadata": {},
   "outputs": [],
   "source": [
    "def get_available_cars():\n",
    "    \n",
    "    cursor.execute(\"\"\"\n",
    "        SELECT `date`, vin, make, model, year, body_type\n",
    "        FROM magnificents_final_project.availability\n",
    "        JOIN magnificents_final_project.car USING(vin)\n",
    "        WHERE (`date`, vin) NOT IN (\n",
    "            SELECT `date`, vin \t\n",
    "            FROM magnificents_final_project.reservation \t\n",
    "        )\n",
    "        GROUP BY magnificents_final_project.availability.`vin`, magnificents_final_project.availability.`date`;\n",
    "    \"\"\")\n",
    "\n",
    "    result = pd.DataFrame(cursor.fetchall(), columns =['date', 'vin', 'make', 'model', 'year', 'body_type'])\n",
    "\n",
    "    #(\"The following is a list of cars that are available but not yet reserved.\")\n",
    "\n",
    "    return(result)"
   ]
  },
  {
   "cell_type": "code",
   "execution_count": 8,
   "id": "53c943bc",
   "metadata": {},
   "outputs": [
    {
     "data": {
      "text/html": [
       "<div>\n",
       "<style scoped>\n",
       "    .dataframe tbody tr th:only-of-type {\n",
       "        vertical-align: middle;\n",
       "    }\n",
       "\n",
       "    .dataframe tbody tr th {\n",
       "        vertical-align: top;\n",
       "    }\n",
       "\n",
       "    .dataframe thead th {\n",
       "        text-align: right;\n",
       "    }\n",
       "</style>\n",
       "<table border=\"1\" class=\"dataframe\">\n",
       "  <thead>\n",
       "    <tr style=\"text-align: right;\">\n",
       "      <th></th>\n",
       "      <th>date</th>\n",
       "      <th>vin</th>\n",
       "      <th>make</th>\n",
       "      <th>model</th>\n",
       "      <th>year</th>\n",
       "      <th>body_type</th>\n",
       "    </tr>\n",
       "  </thead>\n",
       "  <tbody>\n",
       "    <tr>\n",
       "      <th>0</th>\n",
       "      <td>2021-12-01</td>\n",
       "      <td>06B6Z2I2DE3T779Y</td>\n",
       "      <td>Ford</td>\n",
       "      <td>Five Hundred</td>\n",
       "      <td>2005</td>\n",
       "      <td>Sedan</td>\n",
       "    </tr>\n",
       "    <tr>\n",
       "      <th>1</th>\n",
       "      <td>2021-12-07</td>\n",
       "      <td>06B6Z2I2DE3T779Y</td>\n",
       "      <td>Ford</td>\n",
       "      <td>Five Hundred</td>\n",
       "      <td>2005</td>\n",
       "      <td>Sedan</td>\n",
       "    </tr>\n",
       "    <tr>\n",
       "      <th>2</th>\n",
       "      <td>2021-12-08</td>\n",
       "      <td>06B6Z2I2DE3T779Y</td>\n",
       "      <td>Ford</td>\n",
       "      <td>Five Hundred</td>\n",
       "      <td>2005</td>\n",
       "      <td>Sedan</td>\n",
       "    </tr>\n",
       "    <tr>\n",
       "      <th>3</th>\n",
       "      <td>2021-12-09</td>\n",
       "      <td>06B6Z2I2DE3T779Y</td>\n",
       "      <td>Ford</td>\n",
       "      <td>Five Hundred</td>\n",
       "      <td>2005</td>\n",
       "      <td>Sedan</td>\n",
       "    </tr>\n",
       "    <tr>\n",
       "      <th>4</th>\n",
       "      <td>2021-12-10</td>\n",
       "      <td>06B6Z2I2DE3T779Y</td>\n",
       "      <td>Ford</td>\n",
       "      <td>Five Hundred</td>\n",
       "      <td>2005</td>\n",
       "      <td>Sedan</td>\n",
       "    </tr>\n",
       "    <tr>\n",
       "      <th>...</th>\n",
       "      <td>...</td>\n",
       "      <td>...</td>\n",
       "      <td>...</td>\n",
       "      <td>...</td>\n",
       "      <td>...</td>\n",
       "      <td>...</td>\n",
       "    </tr>\n",
       "    <tr>\n",
       "      <th>5872</th>\n",
       "      <td>2022-01-27</td>\n",
       "      <td>ZUVDB6K1BEOFTFHW</td>\n",
       "      <td>Kia</td>\n",
       "      <td>Sephia</td>\n",
       "      <td>1998</td>\n",
       "      <td>Sedan</td>\n",
       "    </tr>\n",
       "    <tr>\n",
       "      <th>5873</th>\n",
       "      <td>2022-01-28</td>\n",
       "      <td>ZUVDB6K1BEOFTFHW</td>\n",
       "      <td>Kia</td>\n",
       "      <td>Sephia</td>\n",
       "      <td>1998</td>\n",
       "      <td>Sedan</td>\n",
       "    </tr>\n",
       "    <tr>\n",
       "      <th>5874</th>\n",
       "      <td>2022-01-29</td>\n",
       "      <td>ZUVDB6K1BEOFTFHW</td>\n",
       "      <td>Kia</td>\n",
       "      <td>Sephia</td>\n",
       "      <td>1998</td>\n",
       "      <td>Sedan</td>\n",
       "    </tr>\n",
       "    <tr>\n",
       "      <th>5875</th>\n",
       "      <td>2022-01-30</td>\n",
       "      <td>ZUVDB6K1BEOFTFHW</td>\n",
       "      <td>Kia</td>\n",
       "      <td>Sephia</td>\n",
       "      <td>1998</td>\n",
       "      <td>Sedan</td>\n",
       "    </tr>\n",
       "    <tr>\n",
       "      <th>5876</th>\n",
       "      <td>2022-01-31</td>\n",
       "      <td>ZUVDB6K1BEOFTFHW</td>\n",
       "      <td>Kia</td>\n",
       "      <td>Sephia</td>\n",
       "      <td>1998</td>\n",
       "      <td>Sedan</td>\n",
       "    </tr>\n",
       "  </tbody>\n",
       "</table>\n",
       "<p>5877 rows × 6 columns</p>\n",
       "</div>"
      ],
      "text/plain": [
       "            date               vin  make         model  year body_type\n",
       "0     2021-12-01  06B6Z2I2DE3T779Y  Ford  Five Hundred  2005     Sedan\n",
       "1     2021-12-07  06B6Z2I2DE3T779Y  Ford  Five Hundred  2005     Sedan\n",
       "2     2021-12-08  06B6Z2I2DE3T779Y  Ford  Five Hundred  2005     Sedan\n",
       "3     2021-12-09  06B6Z2I2DE3T779Y  Ford  Five Hundred  2005     Sedan\n",
       "4     2021-12-10  06B6Z2I2DE3T779Y  Ford  Five Hundred  2005     Sedan\n",
       "...          ...               ...   ...           ...   ...       ...\n",
       "5872  2022-01-27  ZUVDB6K1BEOFTFHW   Kia        Sephia  1998     Sedan\n",
       "5873  2022-01-28  ZUVDB6K1BEOFTFHW   Kia        Sephia  1998     Sedan\n",
       "5874  2022-01-29  ZUVDB6K1BEOFTFHW   Kia        Sephia  1998     Sedan\n",
       "5875  2022-01-30  ZUVDB6K1BEOFTFHW   Kia        Sephia  1998     Sedan\n",
       "5876  2022-01-31  ZUVDB6K1BEOFTFHW   Kia        Sephia  1998     Sedan\n",
       "\n",
       "[5877 rows x 6 columns]"
      ]
     },
     "execution_count": 8,
     "metadata": {},
     "output_type": "execute_result"
    }
   ],
   "source": [
    "# testing the function\n",
    "get_available_cars()\n"
   ]
  },
  {
   "cell_type": "markdown",
   "id": "32f1441b",
   "metadata": {},
   "source": [
    "2. Write the function reserve_car that creates a reservation with a start date and an end date."
   ]
  },
  {
   "cell_type": "code",
   "execution_count": null,
   "id": "3e967ee7",
   "metadata": {},
   "outputs": [],
   "source": [
    "def reserve_car(start_date, end_date, vin, driver_license):\n",
    "    delta = datetime.timedelta(days=1)\n",
    "    while start_date <= end_date:\n",
    "        try:\n",
    "            cursor.execute(\"\"\"INSERT INTO reservation (date, vin, driver_license) VALUES (%s,%s, %s)\"\"\",\n",
    "                        (start_date, vin, driver_license))\n",
    "        except:\n",
    "            print(\"This given car is not available during those dates.\\nPlease create a new reservation.\")\n",
    "            break\n",
    "        else:\n",
    "            print(\"A reservation has been created.\")\n",
    "        start_date=start_date+delta\n"
   ]
  },
  {
   "cell_type": "markdown",
   "id": "4d62254b",
   "metadata": {},
   "source": [
    "TESTING ROUTINES"
   ]
  },
  {
   "cell_type": "code",
   "execution_count": null,
   "id": "7e9df2c8",
   "metadata": {},
   "outputs": [],
   "source": [
    "# This function call should throw an error because the vehicle in question is already reserved \n",
    "# for one (or more) of the days. \n",
    "\n",
    "start_date = datetime.date(2021, 12, 1)\n",
    "end_date = datetime.date(2021, 12, 4)\n",
    "vin = '0838SWLG31495EAB'\n",
    "driver_license = '10381'\n",
    "reserve_car(start_date, end_date, vin, driver_license)"
   ]
  },
  {
   "cell_type": "code",
   "execution_count": null,
   "id": "9e11d253",
   "metadata": {},
   "outputs": [],
   "source": [
    "# This function call should throw an error because the driver_license number is not in the \n",
    "# drivers table.\n",
    "\n",
    "start_date = datetime.date(2021, 12, 8)\n",
    "end_date = datetime.date(2021, 12, 9)\n",
    "vin = '0838SWLG31495EAB'\n",
    "driver_license = '11465'\n",
    "\n",
    "reserve_car(start_date, end_date, vin, driver_license)"
   ]
  },
  {
   "cell_type": "code",
   "execution_count": null,
   "id": "e2a34e6c",
   "metadata": {},
   "outputs": [],
   "source": [
    "# This function call should throw an error because the VIN is not in the \n",
    "# availability table.\n",
    "\n",
    "start_date = datetime.date(2021, 12, 8)\n",
    "end_date = datetime.date(2021, 12, 9)\n",
    "vin = 'blah'\n",
    "driver_license = '10381'\n",
    "\n",
    "reserve_car(start_date, end_date, vin, driver_license)"
   ]
  },
  {
   "cell_type": "code",
   "execution_count": null,
   "id": "67b3f16d",
   "metadata": {},
   "outputs": [],
   "source": [
    "# This function call should run successfully, at least the first time!\n",
    "\n",
    "start_date = datetime.date(2021, 12, 1)\n",
    "end_date = datetime.date(2021, 12, 4)\n",
    "vin = '099PJFX2XYP0YIGJ'\n",
    "driver_license = '10381'\n",
    "\n",
    "reserve_car(start_date, end_date, vin, driver_license)"
   ]
  },
  {
   "cell_type": "markdown",
   "id": "0207d665",
   "metadata": {},
   "source": [
    "3. Write the function start_trip and complete_trip"
   ]
  },
  {
   "cell_type": "code",
   "execution_count": null,
   "id": "6f58f8b2",
   "metadata": {},
   "outputs": [],
   "source": [
    "def start_trip(date, vin, driver_license):\n",
    "    conn.commit()\n",
    "    \n",
    "    try: \n",
    "        cursor.execute(\"\"\"INSERT INTO trip (date, vin, driver_license) VALUES (%s,%s, %s)\"\"\",\n",
    "                  (date, vin, driver_license))\n",
    "    except pymysql.IntegrityError as error:\n",
    "        code, message = error.args\n",
    "        print(\"There is something anomalous about this request, specifically:\")\n",
    "        print (\">>>\", code, message)\n",
    "        print(\"Please make the necessary adjustments and try again.\")\n",
    "        print(\"The function will now terminate.\")\n",
    "        \n",
    "    else: \n",
    "        print(\"The request was processed successfully!\")"
   ]
  },
  {
   "cell_type": "code",
   "execution_count": null,
   "id": "4e3dbb30",
   "metadata": {},
   "outputs": [],
   "source": [
    "# populating start the trip table using start_trips()\n",
    "cursor.execute(\"\"\"\n",
    "        SELECT *  \n",
    "        FROM magnificents_final_project.reservation;\n",
    "    \"\"\")\n",
    "\n",
    "result = pd.DataFrame(cursor.fetchall(), columns =['date', 'vin', 'driver_license'])\n",
    "\n",
    "for index, row in result.iterrows():\n",
    "    \n",
    "    start_trip(row['date'], row['vin'], row['driver_license'])"
   ]
  },
  {
   "cell_type": "code",
   "execution_count": null,
   "id": "7205085d",
   "metadata": {},
   "outputs": [],
   "source": [
    "def complete_trip(date, vin, miles):\n",
    "    conn.commit()\n",
    "    \n",
    "    try: \n",
    "        cursor.execute(\"\"\"UPDATE trip SET miles =%s WHERE date=%s AND vin = %s\"\"\",\n",
    "                  (miles, date, vin))\n",
    "    except pymysql.IntegrityError as error:\n",
    "        code, message = error.args\n",
    "        print(\"There is something anomalous about this request, specifically:\")\n",
    "        print (\">>>\", code, message)\n",
    "        print(\"Please make the necessary adjustments and try again.\")\n",
    "        print(\"The function will now terminate.\")\n",
    "        \n",
    "    else: \n",
    "        print(\"The request was processed successfully!\")"
   ]
  },
  {
   "cell_type": "code",
   "execution_count": null,
   "id": "ee12b78a",
   "metadata": {},
   "outputs": [],
   "source": [
    "# updating the trip table to include information about mileage. the trips table using start_trips()\n",
    "cursor.execute(\"\"\"\n",
    "        SELECT date, vin\n",
    "        FROM magnificents_final_project.trip;\n",
    "    \"\"\")\n",
    "\n",
    "result = pd.DataFrame(cursor.fetchall(), columns =['date', 'vin'])\n",
    "\n",
    "for index, row in result.iterrows():\n",
    "    \n",
    "    complete_trip(row['date'], row['vin'], randint(20,125))"
   ]
  },
  {
   "cell_type": "markdown",
   "id": "226c6303",
   "metadata": {},
   "source": [
    "# Queries"
   ]
  },
  {
   "cell_type": "markdown",
   "id": "9f8a2cf6",
   "metadata": {},
   "source": [
    "1. List all drivers who have reserved a car between Christmas and New Years."
   ]
  },
  {
   "cell_type": "code",
   "execution_count": null,
   "id": "21539cc7",
   "metadata": {},
   "outputs": [],
   "source": [
    "cursor.execute('''SELECT user.name,\n",
    "                         driver.driver_license,\n",
    "                         reservation.date\n",
    "                         FROM magnificents_final_project.user\n",
    "                         INNER JOIN magnificents_final_project.driver\n",
    "                         USING (driver_license) \n",
    "                         INNER JOIN magnificents_final_project.reservation\n",
    "                         USING (driver_license)\n",
    "                         WHERE DATE(reservation.date) >= '2021-12-25' \n",
    "                         AND DATE(reservation.date) <= '2022-1-2'\n",
    "                         GROUP BY user.name''')\n"
   ]
  },
  {
   "cell_type": "markdown",
   "id": "b105fe29",
   "metadata": {},
   "source": [
    "2. Pick one car and show all the drivers who have rented it."
   ]
  },
  {
   "cell_type": "code",
   "execution_count": 10,
   "id": "712ff97c",
   "metadata": {},
   "outputs": [
    {
     "data": {
      "text/plain": [
       "1"
      ]
     },
     "execution_count": 10,
     "metadata": {},
     "output_type": "execute_result"
    }
   ],
   "source": [
    "cursor.execute('''SELECT car.make,\n",
    "                         car.model,\n",
    "                         reservation.date,\n",
    "                         driver.driver_license,\n",
    "                         reservation.vin,\n",
    "                         user.name\n",
    "                         FROM magnificents_final_project.car\n",
    "                         INNER JOIN magnificents_final_project.reservation\n",
    "                         USING (vin)\n",
    "                         INNER JOIN magnificents_final_project.driver\n",
    "                         USING (driver_license) \n",
    "                         INNER JOIN magnificents_final_project.user\n",
    "                         USING (driver_license)\n",
    "                         GROUP BY reservation.vin\n",
    "                         LIMIT 1''')\n"
   ]
  },
  {
   "cell_type": "code",
   "execution_count": 11,
   "id": "4248dcd1",
   "metadata": {},
   "outputs": [
    {
     "data": {
      "text/plain": [
       "(('Ford',\n",
       "  'Five Hundred',\n",
       "  datetime.date(2021, 12, 2),\n",
       "  '108229',\n",
       "  '06B6Z2I2DE3T779Y',\n",
       "  'Belinda Murray'),)"
      ]
     },
     "execution_count": 11,
     "metadata": {},
     "output_type": "execute_result"
    }
   ],
   "source": [
    "cursor.fetchall()"
   ]
  },
  {
   "cell_type": "markdown",
   "id": "260be4f3",
   "metadata": {},
   "source": [
    "3. List all drivers who have rented a car before they turned 25 years old."
   ]
  },
  {
   "cell_type": "code",
   "execution_count": null,
   "id": "e16962ef",
   "metadata": {},
   "outputs": [],
   "source": [
    "cursor.execute('''SELECT user.name,\n",
    "                         driver.date_of_birth,\n",
    "                         reservation.date\n",
    "                         FROM magnificents_final_project.user\n",
    "                         INNER JOIN magnificents_final_project.driver\n",
    "                         USING (driver_license) \n",
    "                         INNER JOIN magnificents_final_project.reservation\n",
    "                         USING (driver_license)\n",
    "                         WHERE (ROUND (DATEDIFF(NOW(), driver.date_of_birth)/365)) < 25\n",
    "                         GROUP BY user.name''')\n"
   ]
  },
  {
   "cell_type": "markdown",
   "id": "6f6d2997",
   "metadata": {},
   "source": [
    "4. List all male drivers aged 65 and over."
   ]
  },
  {
   "cell_type": "code",
   "execution_count": null,
   "id": "adc0a391",
   "metadata": {},
   "outputs": [],
   "source": [
    "from dateutil.relativedelta import relativedelta\n",
    "\n",
    "# The folks born before the date calculated below are >= 65 years of age\n",
    "# on the date the query is being run!\n",
    "cutoff_date = date.today()-relativedelta(years=65) \n",
    "\n",
    "cursor.execute(\"\"\"\n",
    "SELECT driver.driver_license, name, driver.sex, date_of_birth \n",
    "FROM driver\n",
    "JOIN `user` USING(driver_license)\n",
    "WHERE date_of_birth < %s AND driver.sex = \"M\";\"\"\", cutoff_date) \n",
    "\n",
    "result = pd.DataFrame(cursor.fetchall(), columns =['driver license', 'name', 'sex', 'date_of_birth'])\n",
    "\n",
    "print(\"The following is a list of male drivers who are >= 65 years of age.\")\n",
    "\n",
    "print(result)"
   ]
  },
  {
   "cell_type": "markdown",
   "id": "f7c74147",
   "metadata": {},
   "source": [
    "5. List the total number of cars available and not yet reserved for each night \n",
    "   at a price under $50 and seating at least four people."
   ]
  },
  {
   "cell_type": "code",
   "execution_count": null,
   "id": "9dca19af",
   "metadata": {},
   "outputs": [],
   "source": [
    "cursor.execute(\"\"\"\n",
    "SELECT COUNT(availability.vin) AS number_of_vehicles_available, availability.`date` \n",
    "FROM availability \n",
    "JOIN car USING(vin)\n",
    "WHERE (availability.vin, availability.`date`) NOT IN(\n",
    "SELECT reservation.vin, reservation.date \n",
    "FROM reservation ) AND seats >= 4 AND daily_rate < 50\n",
    "GROUP BY availability.`date`\n",
    "\"\"\")\n",
    "result = pd.DataFrame(cursor.fetchall(), columns =['number of vehicles available', 'date'])\n",
    "\n",
    "print(\"The following is a list dates and how many vehicles are available on each date.\")\n",
    "\n",
    "print(result)\n"
   ]
  },
  {
   "cell_type": "markdown",
   "id": "bf40c81d",
   "metadata": {},
   "source": [
    "6. List all completed trips and the amount owed based on the mileage logged and the prices provided."
   ]
  },
  {
   "cell_type": "code",
   "execution_count": 12,
   "id": "90fb7b9a",
   "metadata": {},
   "outputs": [
    {
     "data": {
      "text/html": [
       "<div>\n",
       "<style scoped>\n",
       "    .dataframe tbody tr th:only-of-type {\n",
       "        vertical-align: middle;\n",
       "    }\n",
       "\n",
       "    .dataframe tbody tr th {\n",
       "        vertical-align: top;\n",
       "    }\n",
       "\n",
       "    .dataframe thead th {\n",
       "        text-align: right;\n",
       "    }\n",
       "</style>\n",
       "<table border=\"1\" class=\"dataframe\">\n",
       "  <thead>\n",
       "    <tr style=\"text-align: right;\">\n",
       "      <th></th>\n",
       "      <th>date</th>\n",
       "      <th>vin</th>\n",
       "      <th>excess miles</th>\n",
       "      <th>excess mileage charge</th>\n",
       "      <th>daily rate</th>\n",
       "      <th>total charges due</th>\n",
       "    </tr>\n",
       "  </thead>\n",
       "  <tbody>\n",
       "    <tr>\n",
       "      <th>0</th>\n",
       "      <td>2021-12-01</td>\n",
       "      <td>9FEYV4YWCPNO9U0X</td>\n",
       "      <td>0.00</td>\n",
       "      <td>0.0000</td>\n",
       "      <td>28.73</td>\n",
       "      <td>28.7300</td>\n",
       "    </tr>\n",
       "    <tr>\n",
       "      <th>1</th>\n",
       "      <td>2021-12-02</td>\n",
       "      <td>06B6Z2I2DE3T779Y</td>\n",
       "      <td>0.00</td>\n",
       "      <td>0.0000</td>\n",
       "      <td>22.80</td>\n",
       "      <td>22.8000</td>\n",
       "    </tr>\n",
       "    <tr>\n",
       "      <th>2</th>\n",
       "      <td>2021-12-02</td>\n",
       "      <td>9FEYV4YWCPNO9U0X</td>\n",
       "      <td>102.00</td>\n",
       "      <td>61.2000</td>\n",
       "      <td>60.95</td>\n",
       "      <td>122.1500</td>\n",
       "    </tr>\n",
       "    <tr>\n",
       "      <th>3</th>\n",
       "      <td>2021-12-02</td>\n",
       "      <td>9NLDS94LF4703C31</td>\n",
       "      <td>81.00</td>\n",
       "      <td>38.8800</td>\n",
       "      <td>77.95</td>\n",
       "      <td>116.8300</td>\n",
       "    </tr>\n",
       "    <tr>\n",
       "      <th>4</th>\n",
       "      <td>2021-12-02</td>\n",
       "      <td>IC1R2CB61Q8K1AKV</td>\n",
       "      <td>98.00</td>\n",
       "      <td>44.1000</td>\n",
       "      <td>39.00</td>\n",
       "      <td>83.1000</td>\n",
       "    </tr>\n",
       "    <tr>\n",
       "      <th>...</th>\n",
       "      <td>...</td>\n",
       "      <td>...</td>\n",
       "      <td>...</td>\n",
       "      <td>...</td>\n",
       "      <td>...</td>\n",
       "      <td>...</td>\n",
       "    </tr>\n",
       "    <tr>\n",
       "      <th>318</th>\n",
       "      <td>2021-12-30</td>\n",
       "      <td>9DIZ5X2U4B1Y8FYL</td>\n",
       "      <td>0.00</td>\n",
       "      <td>0.0000</td>\n",
       "      <td>43.61</td>\n",
       "      <td>43.6100</td>\n",
       "    </tr>\n",
       "    <tr>\n",
       "      <th>319</th>\n",
       "      <td>2021-12-30</td>\n",
       "      <td>HWFNDXHFLY545I7O</td>\n",
       "      <td>51.00</td>\n",
       "      <td>33.6600</td>\n",
       "      <td>68.92</td>\n",
       "      <td>102.5800</td>\n",
       "    </tr>\n",
       "    <tr>\n",
       "      <th>320</th>\n",
       "      <td>2021-12-31</td>\n",
       "      <td>99T87UQCJJ8YTUJS</td>\n",
       "      <td>9.00</td>\n",
       "      <td>4.4100</td>\n",
       "      <td>69.76</td>\n",
       "      <td>74.1700</td>\n",
       "    </tr>\n",
       "    <tr>\n",
       "      <th>321</th>\n",
       "      <td>2021-12-31</td>\n",
       "      <td>9DIZ5X2U4B1Y8FYL</td>\n",
       "      <td>69.00</td>\n",
       "      <td>28.2900</td>\n",
       "      <td>39.36</td>\n",
       "      <td>67.6500</td>\n",
       "    </tr>\n",
       "    <tr>\n",
       "      <th>322</th>\n",
       "      <td>2022-01-01</td>\n",
       "      <td>9DIZ5X2U4B1Y8FYL</td>\n",
       "      <td>103.00</td>\n",
       "      <td>54.5900</td>\n",
       "      <td>43.90</td>\n",
       "      <td>98.4900</td>\n",
       "    </tr>\n",
       "  </tbody>\n",
       "</table>\n",
       "<p>323 rows × 6 columns</p>\n",
       "</div>"
      ],
      "text/plain": [
       "           date               vin excess miles excess mileage charge  \\\n",
       "0    2021-12-01  9FEYV4YWCPNO9U0X         0.00                0.0000   \n",
       "1    2021-12-02  06B6Z2I2DE3T779Y         0.00                0.0000   \n",
       "2    2021-12-02  9FEYV4YWCPNO9U0X       102.00               61.2000   \n",
       "3    2021-12-02  9NLDS94LF4703C31        81.00               38.8800   \n",
       "4    2021-12-02  IC1R2CB61Q8K1AKV        98.00               44.1000   \n",
       "..          ...               ...          ...                   ...   \n",
       "318  2021-12-30  9DIZ5X2U4B1Y8FYL         0.00                0.0000   \n",
       "319  2021-12-30  HWFNDXHFLY545I7O        51.00               33.6600   \n",
       "320  2021-12-31  99T87UQCJJ8YTUJS         9.00                4.4100   \n",
       "321  2021-12-31  9DIZ5X2U4B1Y8FYL        69.00               28.2900   \n",
       "322  2022-01-01  9DIZ5X2U4B1Y8FYL       103.00               54.5900   \n",
       "\n",
       "    daily rate total charges due  \n",
       "0        28.73           28.7300  \n",
       "1        22.80           22.8000  \n",
       "2        60.95          122.1500  \n",
       "3        77.95          116.8300  \n",
       "4        39.00           83.1000  \n",
       "..         ...               ...  \n",
       "318      43.61           43.6100  \n",
       "319      68.92          102.5800  \n",
       "320      69.76           74.1700  \n",
       "321      39.36           67.6500  \n",
       "322      43.90           98.4900  \n",
       "\n",
       "[323 rows x 6 columns]"
      ]
     },
     "execution_count": 12,
     "metadata": {},
     "output_type": "execute_result"
    }
   ],
   "source": [
    "cursor.execute(\"\"\"\n",
    "select excess_mileage_calc.date, excess_mileage_calc.vin, excess_miles, excess_mileage_charge, daily_rate, (excess_mileage_charge+ daily_rate) AS total from \n",
    "(SELECT trip.date, trip.vin, GREATEST((availability.free_miles-trip.miles), 0) AS excess_miles\n",
    "FROM trip\n",
    "JOIN availability ON trip.`date` = availability.`date` AND trip.vin = availability.vin) as excess_mileage_calc\n",
    "JOIN\n",
    "(SELECT trip.date, trip.vin, GREATEST(availability.free_miles-trip.miles, 0) * availability.excess_mileage_rate AS excess_mileage_charge\n",
    "FROM trip\n",
    "JOIN availability ON trip.`date` = availability.`date` AND trip.vin = availability.vin) AS excess_mileage_charge_calc\n",
    "ON excess_mileage_charge_calc.date = excess_mileage_calc.date AND excess_mileage_charge_calc.vin = excess_mileage_calc.vin\n",
    "JOIN availability ON excess_mileage_calc.date =availability.date AND excess_mileage_calc.vin = availability.vin\"\"\")\n",
    "\n",
    "result = pd.DataFrame(cursor.fetchall(), columns =['date', 'vin', 'excess miles', 'excess mileage charge',\n",
    "                                                  'daily rate', 'total charges due'])\n",
    "(result)"
   ]
  },
  {
   "cell_type": "code",
   "execution_count": null,
   "id": "957ff03b",
   "metadata": {},
   "outputs": [],
   "source": [
    "7. Show the car makes sorted by the number of reservations."
   ]
  },
  {
   "cell_type": "code",
   "execution_count": null,
   "id": "60e1ddf8",
   "metadata": {},
   "outputs": [],
   "source": [
    "cursor.execute('''SELECT car.make,\n",
    "                         COUNT(reservation.vin) AS num_of_reservation\n",
    "                         FROM magnificents_final_project.car\n",
    "                         INNER JOIN magnificents_final_project.reservation\n",
    "                         USING (vin)\n",
    "                         GROUP BY car.make\n",
    "                         ORDER BY num_of_reservation DESC ''')\n"
   ]
  },
  {
   "cell_type": "markdown",
   "id": "81597bac",
   "metadata": {},
   "source": [
    "8. For each driver, show the total miles driven in their completed trips."
   ]
  },
  {
   "cell_type": "code",
   "execution_count": 15,
   "id": "c791dbef",
   "metadata": {},
   "outputs": [
    {
     "data": {
      "text/plain": [
       "63"
      ]
     },
     "execution_count": 15,
     "metadata": {},
     "output_type": "execute_result"
    }
   ],
   "source": [
    "cursor.execute('''SELECT user.name,\n",
    "                         trip.driver_license,\n",
    "                         SUM(trip.miles)\n",
    "                         FROM magnificents_final_project.user\n",
    "                         INNER JOIN magnificents_final_project.driver\n",
    "                         USING (driver_license)\n",
    "                         INNER JOIN magnificents_final_project.trip\n",
    "                         USING (driver_license)\n",
    "                         GROUP BY trip.driver_license\n",
    "                         ORDER BY user.name''')\n"
   ]
  },
  {
   "cell_type": "code",
   "execution_count": 16,
   "id": "64d11635",
   "metadata": {},
   "outputs": [
    {
     "data": {
      "text/plain": [
       "(('Adam Hinton', '137485', Decimal('300.00')),\n",
       " ('Alexandra Frazier', '223141', Decimal('526.00')),\n",
       " ('Alicia Pope', '670207', Decimal('319.00')),\n",
       " ('Alyssa Garza DVM', '25799', Decimal('313.00')),\n",
       " ('Amy Walker', '465541', Decimal('456.00')),\n",
       " ('Belinda Murray', '108229', Decimal('472.00')),\n",
       " ('Benjamin Franco', '520954', Decimal('465.00')),\n",
       " ('Beth Moreno', '524315', Decimal('678.00')),\n",
       " ('Brandon Hughes', '109250', Decimal('353.00')),\n",
       " ('Christine Caldwell', '166157', Decimal('290.00')),\n",
       " ('Christine Kemp', '230467', Decimal('399.00')),\n",
       " ('Christopher Marshall', '512475', Decimal('656.00')),\n",
       " ('Danny Beard', '167631', Decimal('416.00')),\n",
       " ('Dawn Lee', '154408', Decimal('284.00')),\n",
       " ('Deborah Santos', '506414', Decimal('606.00')),\n",
       " ('Denise Robinson', '161254', Decimal('395.00')),\n",
       " ('Diane Compton', '238410', Decimal('462.00')),\n",
       " ('Elizabeth Jackson', '437092', Decimal('413.00')),\n",
       " ('Elizabeth Lopez', '149441', Decimal('249.00')),\n",
       " ('Heather Simpson', '685934', Decimal('340.00')),\n",
       " ('Jacqueline Gonzalez', '738960', Decimal('418.00')),\n",
       " ('James Gregory', '249765', Decimal('376.00')),\n",
       " ('James Hernandez', '189985', Decimal('394.00')),\n",
       " ('Jasmine Carson', '519087', Decimal('358.00')),\n",
       " ('Jeanne Diaz', '647350', Decimal('310.00')),\n",
       " ('Jeffrey Hart', '720247', Decimal('281.00')),\n",
       " ('Jessica Anderson', '581827', Decimal('331.00')),\n",
       " ('Jocelyn Torres', '193192', Decimal('339.00')),\n",
       " ('Joel Perez', '496958', Decimal('729.00')),\n",
       " ('Jonathan Abbott', '650245', Decimal('275.00')),\n",
       " ('Karina Clark', '693929', Decimal('365.00')),\n",
       " ('Katherine Forbes DVM', '253938', Decimal('435.00')),\n",
       " ('Kathleen Garrett', '63195', Decimal('265.00')),\n",
       " ('Kayla Nelson', '11465', Decimal('323.00')),\n",
       " ('Kristin Davis', '522195', Decimal('520.00')),\n",
       " ('Kristin Marshall', '452349', Decimal('421.00')),\n",
       " ('Lauren Clark', '310133', Decimal('345.00')),\n",
       " ('Louis Schmitt', '615367', Decimal('261.00')),\n",
       " ('Luis Wilson DVM', '446962', Decimal('373.00')),\n",
       " ('Michael Castillo', '246532', Decimal('346.00')),\n",
       " ('Michael Hudson', '499812', Decimal('652.00')),\n",
       " ('Michael Watts', '475042', Decimal('305.00')),\n",
       " ('Monica Good', '26564', Decimal('436.00')),\n",
       " ('Nicholas Berry', '24020', Decimal('288.00')),\n",
       " ('Olivia Anderson', '473162', Decimal('373.00')),\n",
       " ('Paul Diaz DVM', '194991', Decimal('307.00')),\n",
       " ('Paul Walker', '633067', Decimal('333.00')),\n",
       " ('Raven Wilson', '596787', Decimal('296.00')),\n",
       " ('Renee Nguyen', '202541', Decimal('325.00')),\n",
       " ('Rhonda Keller', '755838', Decimal('224.00')),\n",
       " ('Richard Richardson', '629232', Decimal('351.00')),\n",
       " ('Richard Wright', '485124', Decimal('766.00')),\n",
       " ('Sarah Cervantes', '723442', Decimal('182.00')),\n",
       " ('Sean Bass', '201186', Decimal('311.00')),\n",
       " ('Stephen Lane', '219182', Decimal('426.00')),\n",
       " ('Steven Lin', '437375', Decimal('487.00')),\n",
       " ('Tracie Carey MD', '597624', Decimal('302.00')),\n",
       " ('Wanda West', '243939', Decimal('302.00')),\n",
       " ('Wendy Wright', '730407', Decimal('326.00')),\n",
       " ('Wesley Cox', '631983', Decimal('336.00')),\n",
       " ('Xavier Duncan', '709322', Decimal('334.00')),\n",
       " ('Yolanda Reed', '20202', Decimal('382.00')),\n",
       " ('Zachary Dean', '737645', Decimal('221.00')))"
      ]
     },
     "execution_count": 16,
     "metadata": {},
     "output_type": "execute_result"
    }
   ],
   "source": [
    "cursor.fetchall()"
   ]
  },
  {
   "cell_type": "code",
   "execution_count": null,
   "id": "7994cc56",
   "metadata": {},
   "outputs": [],
   "source": []
  }
 ],
 "metadata": {
  "kernelspec": {
   "display_name": "Python 3 (ipykernel)",
   "language": "python",
   "name": "python3"
  },
  "language_info": {
   "codemirror_mode": {
    "name": "ipython",
    "version": 3
   },
   "file_extension": ".py",
   "mimetype": "text/x-python",
   "name": "python",
   "nbconvert_exporter": "python",
   "pygments_lexer": "ipython3",
   "version": "3.8.8"
  }
 },
 "nbformat": 4,
 "nbformat_minor": 5
}
